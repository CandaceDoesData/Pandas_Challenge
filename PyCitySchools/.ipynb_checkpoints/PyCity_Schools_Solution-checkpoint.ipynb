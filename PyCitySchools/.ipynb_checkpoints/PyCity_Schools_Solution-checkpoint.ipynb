{
 "cells": [
  {
   "cell_type": "markdown",
   "id": "c2e9be54",
   "metadata": {},
   "source": [
    "# PyCity Schools Analysis\n",
    "\n",
    "- Overall, Charter Schools that have smaller class sizes and less funding produce better test results than District Schools with more students and higher budgets. Spending more money per student does not appear to have a positive impact on improving test scores. \n",
    "\n",
    "- Charter schools appear to be better able to achieve higher test scores with less money to spend per student. The top 5 schools are all charter schools and they are all able to maintain Math and Reading scores at an average of 83 points across all grades, with a great passing rate of 90.43% overall.\n",
    "\n",
    "- District schools have much larger class sizes, above 2,000 students, as well as a higher budget per student, but that does not translate into higher test scores. More students are struggling with math than with reading but, overall, only 53.67% of District School students were able to pass both math and reading. \n",
    "\n",
    "- While it’s clear that Charter schools out perform District schools, it is not readily apparent as to why that is. From our available data, we can infer that class size might be an important factor, but it might be beneficial to expand our analysis to look into the in-school resources made available to students (such as tutoring and library services) as well as an overview of the teachers (eg: skill level, years teaching, salaries, job satisfaction).\n",
    "\n",
    "- It would also be helpful to do an additional analysis to look at the demographics of the schools and the students. The needs of the individual schools will vary depending on the individual students that make up the student body. A quick snapshot of these particulars might give us a better understanding of why certain schools might be failing or succeeding. These reports, as well as a breakdown of exactly what each school spends its budget on,  would be very useful in helping us achieve our goal of making strategic decisions regarding future school budgets and priorities.  "
   ]
  },
  {
   "cell_type": "code",
   "execution_count": null,
   "id": "03dcbc0a",
   "metadata": {},
   "outputs": [],
   "source": [
    "# Dependencies and Setup\n",
    "import pandas as pd\n",
    "from pathlib import Path\n",
    "\n",
    "# File to Load \n",
    "school_data_to_load = Path(\"Resources/schools_complete.csv\")\n",
    "student_data_to_load = Path(\"Resources/students_complete.csv\")\n",
    "\n",
    "# Read School and Student Data File and store into Pandas DataFrames\n",
    "school_data = pd.read_csv(school_data_to_load)\n",
    "student_data = pd.read_csv(student_data_to_load)\n",
    "\n",
    "# Combine the data into a single dataset  \n",
    "school_data_complete = pd.merge(student_data, school_data, how=\"left\", on=[\"school_name\", \"school_name\"])\n",
    "\n",
    "school_data_complete.head()"
   ]
  },
  {
   "cell_type": "markdown",
   "id": "f3f85fd5",
   "metadata": {},
   "source": [
    "# District Summary"
   ]
  },
  {
   "cell_type": "code",
   "execution_count": null,
   "id": "a0e75b3a",
   "metadata": {},
   "outputs": [],
   "source": [
    "# Calculate the total number of unique schools\n",
    "school_count = school_data_complete[\"school_name\"].nunique()\n",
    "school_count"
   ]
  },
  {
   "cell_type": "code",
   "execution_count": null,
   "id": "a85f09ef",
   "metadata": {},
   "outputs": [],
   "source": [
    "# Calculate the total number of students\n",
    "student_count = school_data_complete[\"student_name\"].count()\n",
    "student_count"
   ]
  },
  {
   "cell_type": "code",
   "execution_count": null,
   "id": "16bbf146",
   "metadata": {},
   "outputs": [],
   "source": [
    "# Calculate the total budget\n",
    "total_budget = school_data_complete[\"budget\"].unique().sum()\n",
    "total_budget"
   ]
  },
  {
   "cell_type": "code",
   "execution_count": null,
   "id": "44798ddb",
   "metadata": {},
   "outputs": [],
   "source": [
    "# Calculate the average math score\n",
    "average_math_score = school_data_complete[\"math_score\"].mean()\n",
    "average_math_score"
   ]
  },
  {
   "cell_type": "code",
   "execution_count": null,
   "id": "39da8b53",
   "metadata": {},
   "outputs": [],
   "source": [
    "# Calculate the average reading score\n",
    "average_reading_score = school_data_complete[\"reading_score\"].mean()\n",
    "average_reading_score"
   ]
  },
  {
   "cell_type": "code",
   "execution_count": null,
   "id": "12cd3f28",
   "metadata": {},
   "outputs": [],
   "source": [
    "# Calculate the percentage of students who passed math with a score greather than or equal to 70\n",
    "passing_math_count = school_data_complete[(school_data_complete[\"math_score\"] >= 70)].count()[\"student_name\"]\n",
    "passing_math_percentage = passing_math_count /(student_count) * 100\n",
    "passing_math_percentage"
   ]
  },
  {
   "cell_type": "code",
   "execution_count": null,
   "id": "5713e539",
   "metadata": {},
   "outputs": [],
   "source": [
    "# Calculate the percentage of students who passeed reading with a score greather than or equal to 70\n",
    "passing_reading_count = school_data_complete[(school_data_complete[\"reading_score\"] >= 70)].count()[\"student_name\"]\n",
    "passing_reading_count = passing_reading_count /(student_count) * 100\n",
    "passing_reading_count"
   ]
  },
  {
   "cell_type": "code",
   "execution_count": null,
   "id": "f16ca44c",
   "metadata": {},
   "outputs": [],
   "source": [
    "# Calculate the percentage of students that passed both math and reading\n",
    "passing_math_reading_count = school_data_complete[\n",
    "    (school_data_complete[\"math_score\"] >= 70) & (school_data_complete[\"reading_score\"] >= 70)\n",
    "].count()[\"student_name\"]\n",
    "overall_passing_rate = passing_math_reading_count / (student_count) * 100\n",
    "overall_passing_rate"
   ]
  },
  {
   "cell_type": "code",
   "execution_count": null,
   "id": "426774c1",
   "metadata": {},
   "outputs": [],
   "source": [
    "# Assemble into high-level DataFrame with key metrics called 'district_summary'\n",
    "district_summary = pd.DataFrame({\"Total Schools\":[school_count], \n",
    "                     \"Total Students\":[student_count], \n",
    "                     \"Total Budget\":[total_budget], \n",
    "                     \"Average Math Score\":[average_math_score], \n",
    "                     \"Average Reading Score\":[average_reading_score], \n",
    "                     \"% Passing Math\":[passing_math_percentage], \n",
    "                     \"% Passing Reading\":[passing_reading_count], \n",
    "                     \"% Overall Passing\":[overall_passing_rate]})\n",
    "\n",
    "# Formatting\n",
    "district_summary[\"Total Students\"] = district_summary[\"Total Students\"].map(\"{:,}\".format)\n",
    "district_summary[\"Total Budget\"] = district_summary[\"Total Budget\"].map(\"${:,.2f}\".format)\n",
    "\n",
    "\n",
    "# Display the DataFrame\n",
    "district_summary"
   ]
  },
  {
   "cell_type": "markdown",
   "id": "787bebad",
   "metadata": {},
   "source": [
    "# School Summary"
   ]
  },
  {
   "cell_type": "code",
   "execution_count": null,
   "id": "83d72f2f",
   "metadata": {},
   "outputs": [],
   "source": [
    "# Select the school type\n",
    "school_types = school_data.set_index([\"school_name\"])[\"type\"]"
   ]
  },
  {
   "cell_type": "code",
   "execution_count": null,
   "id": "1cb2fe39",
   "metadata": {},
   "outputs": [],
   "source": [
    "# Calculate the total student count\n",
    "per_school_counts = school_data_complete[\"school_name\"].value_counts()"
   ]
  },
  {
   "cell_type": "code",
   "execution_count": null,
   "id": "e1e2f8c1",
   "metadata": {},
   "outputs": [],
   "source": [
    "# Calculate the total school budget and per capita spending\n",
    "per_school_budget = school_data_complete.groupby([\"school_name\"]).mean()[\"budget\"]\n",
    "per_school_capita = per_school_budget / per_school_counts"
   ]
  },
  {
   "cell_type": "code",
   "execution_count": null,
   "id": "762c6a4e",
   "metadata": {},
   "outputs": [],
   "source": [
    "# Calculate the average test scores\n",
    "per_school_math = school_data_complete.groupby([\"school_name\"]).mean()[\"math_score\"]\n",
    "per_school_reading = school_data_complete.groupby([\"school_name\"]).mean()[\"reading_score\"]"
   ]
  },
  {
   "cell_type": "code",
   "execution_count": null,
   "id": "177399f8",
   "metadata": {},
   "outputs": [],
   "source": [
    "# Calculate the number of schools with math scores of 70 or higher\n",
    "school_passing_math = school_data_complete[school_data_complete[\"math_score\"] >= 70]"
   ]
  },
  {
   "cell_type": "code",
   "execution_count": null,
   "id": "b0fe9fa2",
   "metadata": {},
   "outputs": [],
   "source": [
    "# Calculate the number of schools with reading scores of 70 or higher\n",
    "school_passing_reading = school_data_complete[school_data_complete[\"reading_score\"] >= 70]"
   ]
  },
  {
   "cell_type": "code",
   "execution_count": null,
   "id": "98cd35e7",
   "metadata": {},
   "outputs": [],
   "source": [
    "# Calculate the schools that passed both math and reading with scores of 70 or higher\n",
    "passing_math_and_reading = school_data_complete[\n",
    "    (school_data_complete[\"reading_score\"] >= 70) & (school_data_complete[\"math_score\"] >= 70)]"
   ]
  },
  {
   "cell_type": "code",
   "execution_count": null,
   "id": "7d5209b1",
   "metadata": {},
   "outputs": [],
   "source": [
    "# Calculate the passing rates\n",
    "per_school_passing_math = school_passing_math.groupby([\"school_name\"]).count()[\"student_name\"] / per_school_counts * 100\n",
    "per_school_passing_reading = school_passing_reading.groupby([\"school_name\"]).count()[\"student_name\"] / per_school_counts * 100\n",
    "overall_passing_rate = passing_math_and_reading.groupby([\"school_name\"]).count()[\"student_name\"] / per_school_counts * 100"
   ]
  },
  {
   "cell_type": "code",
   "execution_count": null,
   "id": "39f5d478",
   "metadata": {},
   "outputs": [],
   "source": [
    "# Assemble into DataFrame called 'per_school_summary'\n",
    "per_school_summary = pd.DataFrame({\n",
    "             \"School Type\": school_types,\n",
    "             \"Total Students\": per_school_counts,\n",
    "             \"Total School Budget\": per_school_budget,\n",
    "             \"Per Student Budget\": per_school_capita,\n",
    "             \"Average Math Score\": per_school_math,\n",
    "           \"Average Reading Score\": per_school_reading,\n",
    "           \"% Passing Math\": per_school_passing_math,\n",
    "           \"% Passing Reading\": per_school_passing_reading,\n",
    "           \"% Overall Passing\": overall_passing_rate})\n",
    "\n",
    "\n",
    "# Formatting\n",
    "per_school_summary[\"Total School Budget\"] = per_school_summary[\"Total School Budget\"].map(\"${:,.2f}\".format)\n",
    "per_school_summary[\"Per Student Budget\"] = per_school_summary[\"Per Student Budget\"].map(\"${:,.2f}\".format)\n",
    "\n",
    "# Display the DataFrame\n",
    "per_school_summary"
   ]
  },
  {
   "cell_type": "markdown",
   "id": "00e45c07",
   "metadata": {},
   "source": [
    "# Highest-Performing Schools by % of Overall Passing"
   ]
  },
  {
   "cell_type": "code",
   "execution_count": null,
   "id": "2d320e4d",
   "metadata": {},
   "outputs": [],
   "source": [
    "# Sort the schools by '% Overall Passing' in descending order\n",
    "top_schools = per_school_summary.sort_values([\"% Overall Passing\"], ascending=False)"
   ]
  },
  {
   "cell_type": "code",
   "execution_count": null,
   "id": "545a5676",
   "metadata": {},
   "outputs": [],
   "source": [
    "# Display the top 5 rows\n",
    "top_schools.head(5)"
   ]
  },
  {
   "cell_type": "markdown",
   "id": "415edc52",
   "metadata": {},
   "source": [
    "# Lowest-Performing Schools by % of Overall Passing"
   ]
  },
  {
   "cell_type": "code",
   "execution_count": null,
   "id": "28538184",
   "metadata": {},
   "outputs": [],
   "source": [
    "# Sort the schools by '% Overall Passing' in ascending order\n",
    "bottom_schools = per_school_summary.sort_values([\"% Overall Passing\"], ascending=True)"
   ]
  },
  {
   "cell_type": "code",
   "execution_count": null,
   "id": "68ef8d07",
   "metadata": {},
   "outputs": [],
   "source": [
    "# Display the top 5 rows\n",
    "bottom_schools.head(5)"
   ]
  },
  {
   "cell_type": "markdown",
   "id": "4dfb06fc",
   "metadata": {},
   "source": [
    "# Math Scores by Grade"
   ]
  },
  {
   "cell_type": "code",
   "execution_count": null,
   "id": "efe5f177",
   "metadata": {},
   "outputs": [],
   "source": [
    "# Separate the data by grade\n",
    "ninth_graders = school_data_complete[(school_data_complete[\"grade\"] == \"9th\")]\n",
    "tenth_graders = school_data_complete[(school_data_complete[\"grade\"] == \"10th\")]\n",
    "eleventh_graders = school_data_complete[(school_data_complete[\"grade\"] == \"11th\")]\n",
    "twelfth_graders = school_data_complete[(school_data_complete[\"grade\"] == \"12th\")]"
   ]
  },
  {
   "cell_type": "code",
   "execution_count": null,
   "id": "cc096114",
   "metadata": {},
   "outputs": [],
   "source": [
    "# Group by 'school_name' and take the mean of each\n",
    "ninth_graders_scores = ninth_graders.groupby(\"school_name\").mean()\n",
    "tenth_graders_scores = tenth_graders.groupby(\"school_name\").mean()\n",
    "eleventh_graders_scores = eleventh_graders.groupby(\"school_name\").mean()\n",
    "twelfth_graders_scores = twelfth_graders.groupby(\"school_name\").mean()"
   ]
  },
  {
   "cell_type": "code",
   "execution_count": null,
   "id": "7ca3dacd",
   "metadata": {},
   "outputs": [],
   "source": [
    "# Use the code to select only the 'math_score'\n",
    "ninth_grade_math_scores = ninth_graders_scores[\"math_score\"]\n",
    "tenth_grade_math_scores = tenth_graders_scores[\"math_score\"]\n",
    "eleventh_grade_math_scores = eleventh_graders_scores[\"math_score\"]\n",
    "twelfth_grade_math_scores = twelfth_graders_scores[\"math_score\"]"
   ]
  },
  {
   "cell_type": "code",
   "execution_count": null,
   "id": "5b5b8f3e",
   "metadata": {},
   "outputs": [],
   "source": [
    "# Assemble into DataFrame called 'math_scores_by_grade'\n",
    "math_scores_by_grade = pd.DataFrame({ \"9th\" : ninth_grade_math_scores,\n",
    "                                     \"10th\" : tenth_grade_math_scores,\n",
    "                                     \"11th\" : eleventh_grade_math_scores,\n",
    "                                     \"12th\" : twelfth_grade_math_scores })\n",
    "                        \n",
    "# Minor data wrangling\n",
    "math_scores_by_grade.index.name = None\n",
    "\n",
    "# Display the DataFrame\n",
    "math_scores_by_grade"
   ]
  },
  {
   "cell_type": "markdown",
   "id": "1c1c3628",
   "metadata": {},
   "source": [
    "# Reading Scores by Grade"
   ]
  },
  {
   "cell_type": "code",
   "execution_count": null,
   "id": "00aaa29f",
   "metadata": {},
   "outputs": [],
   "source": [
    "# Separate the data by grade\n",
    "ninth_graders = school_data_complete[(school_data_complete[\"grade\"] == \"9th\")]\n",
    "tenth_graders = school_data_complete[(school_data_complete[\"grade\"] == \"10th\")]\n",
    "eleventh_graders = school_data_complete[(school_data_complete[\"grade\"] == \"11th\")]\n",
    "twelfth_graders = school_data_complete[(school_data_complete[\"grade\"] == \"12th\")]"
   ]
  },
  {
   "cell_type": "code",
   "execution_count": null,
   "id": "51900c0c",
   "metadata": {},
   "outputs": [],
   "source": [
    "# Group by 'school_name' and take the mean of each\n",
    "ninth_graders_scores = ninth_graders.groupby(\"school_name\").mean()\n",
    "tenth_graders_scores = tenth_graders.groupby(\"school_name\").mean()\n",
    "eleventh_graders_scores = eleventh_graders.groupby(\"school_name\").mean()\n",
    "twelfth_graders_scores = twelfth_graders.groupby(\"school_name\").mean()"
   ]
  },
  {
   "cell_type": "code",
   "execution_count": null,
   "id": "da41f28e",
   "metadata": {},
   "outputs": [],
   "source": [
    "# Use the code to select only the 'reading_score'\n",
    "ninth_grade_reading_scores = ninth_graders_scores[\"reading_score\"]\n",
    "tenth_grade_reading_scores = tenth_graders_scores[\"reading_score\"]\n",
    "eleventh_grade_reading_scores = eleventh_graders_scores[\"reading_score\"]\n",
    "twelfth_grade_reading_scores = twelfth_graders_scores[\"reading_score\"]"
   ]
  },
  {
   "cell_type": "code",
   "execution_count": null,
   "id": "1569dc3a",
   "metadata": {},
   "outputs": [],
   "source": [
    "# Assemble into DataFrame called 'reading_scores_by_grade'\n",
    "reading_scores_by_grade = pd.DataFrame({ \"9th\" : ninth_grade_reading_scores,\n",
    "                                     \"10th\" : tenth_grade_reading_scores,\n",
    "                                     \"11th\" : eleventh_grade_reading_scores,\n",
    "                                     \"12th\" : twelfth_grade_reading_scores })\n",
    "                        \n",
    "\n",
    "# Minor data wrangling\n",
    "reading_scores_by_grade = reading_scores_by_grade[[\"9th\", \"10th\", \"11th\", \"12th\"]]\n",
    "reading_scores_by_grade.index.name = None\n",
    "\n",
    "# Display the DataFrame\n",
    "reading_scores_by_grade"
   ]
  },
  {
   "cell_type": "markdown",
   "id": "d598ffb0",
   "metadata": {},
   "source": [
    "# Scores by School Spending"
   ]
  },
  {
   "cell_type": "code",
   "execution_count": null,
   "id": "c55b0fba",
   "metadata": {},
   "outputs": [],
   "source": [
    "# Establish the bins \n",
    "bins = [0, 585, 630, 645, 680]\n",
    "spending_labels = [\"<$585\", \"$585-630\", \"$630-645\", \"$645-680\"]\n",
    "\n",
    "# Create a copy of the school summary for \"Per Student Budget\" \n",
    "school_spending_df = per_school_summary.copy()\n",
    "\n",
    "# Use 'pd.cut' to categorize spending based on the bins\n",
    "school_spending_df[\"Spending Ranges (Per Student)\"] = pd.cut(per_school_capita, \n",
    "                                                             bins, labels=spending_labels)"
   ]
  },
  {
   "cell_type": "code",
   "execution_count": null,
   "id": "747805a4",
   "metadata": {},
   "outputs": [],
   "source": [
    "#  Calculate averages for the desired columns\n",
    "spending_math_scores = school_spending_df.groupby([\"Spending Ranges (Per Student)\"]).mean()[\"Average Math Score\"]\n",
    "spending_reading_scores = school_spending_df.groupby([\"Spending Ranges (Per Student)\"]).mean()[\"Average Reading Score\"]\n",
    "spending_passing_math = school_spending_df.groupby([\"Spending Ranges (Per Student)\"]).mean()[\"% Passing Math\"]\n",
    "spending_passing_reading = school_spending_df.groupby([\"Spending Ranges (Per Student)\"]).mean()[\"% Passing Reading\"]\n",
    "overall_passing_spending = school_spending_df.groupby([\"Spending Ranges (Per Student)\"]).mean()[\"% Overall Passing\"]"
   ]
  },
  {
   "cell_type": "code",
   "execution_count": null,
   "id": "500a49c0",
   "metadata": {},
   "outputs": [],
   "source": [
    "# Assemble into DataFrame called 'spending_summary'\n",
    "spending_summary = pd.DataFrame({\"Average Math Score\" : spending_math_scores,\n",
    "                                \"Average Reading Score\" : spending_reading_scores,\n",
    "                                \"% Passing Math\" : spending_passing_math,\n",
    "                                \"% Passing Reading\" : spending_passing_reading,\n",
    "                                \"% Passing Overall\" : overall_passing_spending})\n",
    "\n",
    "# Display the DataFrame\n",
    "spending_summary"
   ]
  },
  {
   "cell_type": "markdown",
   "id": "32fe3509",
   "metadata": {},
   "source": [
    "# Scores by School Size"
   ]
  },
  {
   "cell_type": "code",
   "execution_count": null,
   "id": "0d21800a",
   "metadata": {},
   "outputs": [],
   "source": [
    "# Establish the bins.\n",
    "size_bins = [0, 1000, 2000, 5000]\n",
    "labels = [\"Small (<1000)\", \"Medium (1000-2000)\", \"Large (2000-5000)\"]\n",
    "\n",
    "# Use `pd.cut` on the \"Total Students\" column of the `per_school_summary` DataFrame.\n",
    "per_school_summary[\"School Size\"] = pd.cut(per_school_counts, size_bins, labels=labels)"
   ]
  },
  {
   "cell_type": "code",
   "execution_count": null,
   "id": "768d40e5",
   "metadata": {},
   "outputs": [],
   "source": [
    "# Calculate averages for the desired columns. \n",
    "size_math_scores = per_school_summary.groupby([\"School Size\"]).mean()[\"Average Math Score\"]\n",
    "size_reading_scores = per_school_summary.groupby([\"School Size\"]).mean()[\"Average Reading Score\"]\n",
    "size_passing_math = per_school_summary.groupby([\"School Size\"]).mean()[\"% Passing Math\"]\n",
    "size_passing_reading = per_school_summary.groupby([\"School Size\"]).mean()[\"% Passing Reading\"]\n",
    "size_overall_passing = per_school_summary.groupby([\"School Size\"]).mean()[\"% Overall Passing\"]"
   ]
  },
  {
   "cell_type": "code",
   "execution_count": null,
   "id": "976966cb",
   "metadata": {},
   "outputs": [],
   "source": [
    "# Assemble into DataFrame called 'size_summary'\n",
    "size_summary = pd.DataFrame({\"Average Math Score\" : size_math_scores,\n",
    "                             \"Average Reading Score\" : size_reading_scores,\n",
    "                             \"% Passing Math\" : size_passing_math,\n",
    "                             \"% Passing Reading\" : size_passing_reading,\n",
    "                             \"% Overall Passing\" : size_overall_passing})\n",
    "\n",
    "# Display the DataFrame\n",
    "size_summary"
   ]
  },
  {
   "cell_type": "markdown",
   "id": "5e09882c",
   "metadata": {},
   "source": [
    "# Scores by School Type"
   ]
  },
  {
   "cell_type": "code",
   "execution_count": null,
   "id": "363933de",
   "metadata": {},
   "outputs": [],
   "source": [
    "# Group the per_school_summary DataFrame by \"School Type\" and average the results.\n",
    "type_math_scores = per_school_summary.groupby([\"School Type\"]).mean()\n",
    "type_reading_scores = per_school_summary.groupby([\"School Type\"]).mean()\n",
    "type_passing_math = per_school_summary.groupby([\"School Type\"]).mean()\n",
    "type_passing_reading = per_school_summary.groupby([\"School Type\"]).mean()\n",
    "type_overall_passing = per_school_summary.groupby([\"School Type\"]).mean()"
   ]
  },
  {
   "cell_type": "code",
   "execution_count": null,
   "id": "1760d579",
   "metadata": {},
   "outputs": [],
   "source": [
    "# Select new column data\n",
    "average_math_score_by_type = type_math_scores[\"Average Math Score\"]\n",
    "average_reading_score_by_type = type_reading_scores[\"Average Reading Score\"]\n",
    "average_percent_passing_math_by_type = type_passing_math[\"% Passing Math\"]\n",
    "average_percent_passing_reading_by_type = type_passing_reading[\"% Passing Reading\"]\n",
    "average_percent_overall_passing_by_type = type_overall_passing[\"% Overall Passing\"]"
   ]
  },
  {
   "cell_type": "code",
   "execution_count": null,
   "id": "b1b28e3b",
   "metadata": {},
   "outputs": [],
   "source": [
    "# Assemble into DataFrame called 'type_summary'\n",
    "type_summary = pd.DataFrame({\"Average Math Score\" : average_math_score_by_type,\n",
    "                             \"Average Reading Score\" : average_reading_score_by_type,\n",
    "                             \"% Passing Math\" : average_percent_passing_math_by_type,\n",
    "                             \"% Passing Reading\" : average_percent_passing_reading_by_type,\n",
    "                             \"% Overall Passing\" : average_percent_overall_passing_by_type})\n",
    "\n",
    "# Display the DataFrame\n",
    "type_summary"
   ]
  }
 ],
 "metadata": {
  "kernelspec": {
   "display_name": "Python 3 (ipykernel)",
   "language": "python",
   "name": "python3"
  },
  "language_info": {
   "codemirror_mode": {
    "name": "ipython",
    "version": 3
   },
   "file_extension": ".py",
   "mimetype": "text/x-python",
   "name": "python",
   "nbconvert_exporter": "python",
   "pygments_lexer": "ipython3",
   "version": "3.9.16"
  }
 },
 "nbformat": 4,
 "nbformat_minor": 5
}
